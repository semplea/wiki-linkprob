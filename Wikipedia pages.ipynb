{
 "cells": [
  {
   "cell_type": "code",
   "execution_count": 1,
   "metadata": {
    "collapsed": true
   },
   "outputs": [],
   "source": [
    "import pandas as pd\n",
    "import numpy as np\n",
    "import matplotlib.pyplot as plt\n",
    "import seaborn as sns\n",
    "import math\n",
    "%matplotlib inline"
   ]
  },
  {
   "cell_type": "code",
   "execution_count": 2,
   "metadata": {
    "collapsed": false
   },
   "outputs": [],
   "source": [
    "raw = pd.DataFrame.from_csv('data_n2.tsv', sep='\\t')\n",
    "raw = raw.drop('probability_ordered', axis=1) # we ignore col 'probability_ordered"
   ]
  },
  {
   "cell_type": "code",
   "execution_count": 3,
   "metadata": {
    "collapsed": false
   },
   "outputs": [
    {
     "data": {
      "text/html": [
       "<div>\n",
       "<table border=\"1\" class=\"dataframe\">\n",
       "  <thead>\n",
       "    <tr style=\"text-align: right;\">\n",
       "      <th></th>\n",
       "      <th>target_article_id</th>\n",
       "      <th>target_article_name</th>\n",
       "      <th>probability</th>\n",
       "      <th>target_position_in_text</th>\n",
       "      <th>target_position_in_section</th>\n",
       "      <th>target_in_table</th>\n",
       "      <th>target_position_in_text_normed</th>\n",
       "      <th>target_position_in_section_normed</th>\n",
       "      <th>source_article_max_section_number</th>\n",
       "      <th>source_article_max_number_of_links</th>\n",
       "    </tr>\n",
       "    <tr>\n",
       "      <th>source_article_id</th>\n",
       "      <th></th>\n",
       "      <th></th>\n",
       "      <th></th>\n",
       "      <th></th>\n",
       "      <th></th>\n",
       "      <th></th>\n",
       "      <th></th>\n",
       "      <th></th>\n",
       "      <th></th>\n",
       "      <th></th>\n",
       "    </tr>\n",
       "  </thead>\n",
       "  <tbody>\n",
       "    <tr>\n",
       "      <th>27275061</th>\n",
       "      <td>1946322</td>\n",
       "      <td>Katipo</td>\n",
       "      <td>0.705357</td>\n",
       "      <td>8</td>\n",
       "      <td>8</td>\n",
       "      <td>0.0</td>\n",
       "      <td>0.195122</td>\n",
       "      <td>0.727273</td>\n",
       "      <td>6</td>\n",
       "      <td>41</td>\n",
       "    </tr>\n",
       "    <tr>\n",
       "      <th>27275061</th>\n",
       "      <td>1946322</td>\n",
       "      <td>Latrodectus katipo</td>\n",
       "      <td>0.294643</td>\n",
       "      <td>29</td>\n",
       "      <td>14</td>\n",
       "      <td>0.0</td>\n",
       "      <td>0.707317</td>\n",
       "      <td>0.608696</td>\n",
       "      <td>6</td>\n",
       "      <td>41</td>\n",
       "    </tr>\n",
       "    <tr>\n",
       "      <th>18328851</th>\n",
       "      <td>16562095</td>\n",
       "      <td>Sino Land Company Limited</td>\n",
       "      <td>0.575000</td>\n",
       "      <td>14</td>\n",
       "      <td>14</td>\n",
       "      <td>0.0</td>\n",
       "      <td>0.736842</td>\n",
       "      <td>0.875000</td>\n",
       "      <td>3</td>\n",
       "      <td>19</td>\n",
       "    </tr>\n",
       "    <tr>\n",
       "      <th>18328851</th>\n",
       "      <td>20477410</td>\n",
       "      <td>Sino Hotels (Holdings) Limited</td>\n",
       "      <td>0.545455</td>\n",
       "      <td>15</td>\n",
       "      <td>15</td>\n",
       "      <td>0.0</td>\n",
       "      <td>0.789474</td>\n",
       "      <td>0.937500</td>\n",
       "      <td>3</td>\n",
       "      <td>19</td>\n",
       "    </tr>\n",
       "    <tr>\n",
       "      <th>18328851</th>\n",
       "      <td>16562095</td>\n",
       "      <td>Sino Land</td>\n",
       "      <td>0.425000</td>\n",
       "      <td>18</td>\n",
       "      <td>2</td>\n",
       "      <td>0.0</td>\n",
       "      <td>0.947368</td>\n",
       "      <td>0.666667</td>\n",
       "      <td>3</td>\n",
       "      <td>19</td>\n",
       "    </tr>\n",
       "  </tbody>\n",
       "</table>\n",
       "</div>"
      ],
      "text/plain": [
       "                   target_article_id             target_article_name  \\\n",
       "source_article_id                                                      \n",
       "27275061                     1946322                          Katipo   \n",
       "27275061                     1946322              Latrodectus katipo   \n",
       "18328851                    16562095       Sino Land Company Limited   \n",
       "18328851                    20477410  Sino Hotels (Holdings) Limited   \n",
       "18328851                    16562095                       Sino Land   \n",
       "\n",
       "                   probability  target_position_in_text  \\\n",
       "source_article_id                                         \n",
       "27275061              0.705357                        8   \n",
       "27275061              0.294643                       29   \n",
       "18328851              0.575000                       14   \n",
       "18328851              0.545455                       15   \n",
       "18328851              0.425000                       18   \n",
       "\n",
       "                   target_position_in_section  target_in_table  \\\n",
       "source_article_id                                                \n",
       "27275061                                    8              0.0   \n",
       "27275061                                   14              0.0   \n",
       "18328851                                   14              0.0   \n",
       "18328851                                   15              0.0   \n",
       "18328851                                    2              0.0   \n",
       "\n",
       "                   target_position_in_text_normed  \\\n",
       "source_article_id                                   \n",
       "27275061                                 0.195122   \n",
       "27275061                                 0.707317   \n",
       "18328851                                 0.736842   \n",
       "18328851                                 0.789474   \n",
       "18328851                                 0.947368   \n",
       "\n",
       "                   target_position_in_section_normed  \\\n",
       "source_article_id                                      \n",
       "27275061                                    0.727273   \n",
       "27275061                                    0.608696   \n",
       "18328851                                    0.875000   \n",
       "18328851                                    0.937500   \n",
       "18328851                                    0.666667   \n",
       "\n",
       "                   source_article_max_section_number  \\\n",
       "source_article_id                                      \n",
       "27275061                                           6   \n",
       "27275061                                           6   \n",
       "18328851                                           3   \n",
       "18328851                                           3   \n",
       "18328851                                           3   \n",
       "\n",
       "                   source_article_max_number_of_links  \n",
       "source_article_id                                      \n",
       "27275061                                           41  \n",
       "27275061                                           41  \n",
       "18328851                                           19  \n",
       "18328851                                           19  \n",
       "18328851                                           19  "
      ]
     },
     "execution_count": 3,
     "metadata": {},
     "output_type": "execute_result"
    }
   ],
   "source": [
    "raw.head(5)"
   ]
  },
  {
   "cell_type": "code",
   "execution_count": 4,
   "metadata": {
    "collapsed": false
   },
   "outputs": [
    {
     "name": "stdout",
     "output_type": "stream",
     "text": [
      "num of samples: 205278, num of features: 9\n"
     ]
    }
   ],
   "source": [
    "samples, feats = raw.shape\n",
    "print(\"num of samples: {}, num of features: {}\".format(samples, feats-1))"
   ]
  },
  {
   "cell_type": "markdown",
   "metadata": {},
   "source": [
    "Let's have a look at the features"
   ]
  },
  {
   "cell_type": "code",
   "execution_count": 18,
   "metadata": {
    "collapsed": false
   },
   "outputs": [
    {
     "data": {
      "text/html": [
       "<div>\n",
       "<table border=\"1\" class=\"dataframe\">\n",
       "  <thead>\n",
       "    <tr style=\"text-align: right;\">\n",
       "      <th></th>\n",
       "      <th>features</th>\n",
       "      <th>correlation</th>\n",
       "    </tr>\n",
       "  </thead>\n",
       "  <tbody>\n",
       "    <tr>\n",
       "      <th>0</th>\n",
       "      <td>target_article_id</td>\n",
       "      <td>6.564554e-17</td>\n",
       "    </tr>\n",
       "    <tr>\n",
       "      <th>2</th>\n",
       "      <td>target_position_in_text</td>\n",
       "      <td>-1.002721e-01</td>\n",
       "    </tr>\n",
       "    <tr>\n",
       "      <th>3</th>\n",
       "      <td>target_position_in_section</td>\n",
       "      <td>-4.167372e-02</td>\n",
       "    </tr>\n",
       "    <tr>\n",
       "      <th>4</th>\n",
       "      <td>target_in_table</td>\n",
       "      <td>-1.321881e-01</td>\n",
       "    </tr>\n",
       "    <tr>\n",
       "      <th>5</th>\n",
       "      <td>target_position_in_text_normed</td>\n",
       "      <td>-1.948319e-01</td>\n",
       "    </tr>\n",
       "    <tr>\n",
       "      <th>6</th>\n",
       "      <td>target_position_in_section_normed</td>\n",
       "      <td>5.278587e-02</td>\n",
       "    </tr>\n",
       "    <tr>\n",
       "      <th>7</th>\n",
       "      <td>source_article_max_section_number</td>\n",
       "      <td>6.054259e-17</td>\n",
       "    </tr>\n",
       "    <tr>\n",
       "      <th>8</th>\n",
       "      <td>source_article_max_number_of_links</td>\n",
       "      <td>1.843562e-17</td>\n",
       "    </tr>\n",
       "  </tbody>\n",
       "</table>\n",
       "</div>"
      ],
      "text/plain": [
       "                             features   correlation\n",
       "0                   target_article_id  6.564554e-17\n",
       "2             target_position_in_text -1.002721e-01\n",
       "3          target_position_in_section -4.167372e-02\n",
       "4                     target_in_table -1.321881e-01\n",
       "5      target_position_in_text_normed -1.948319e-01\n",
       "6   target_position_in_section_normed  5.278587e-02\n",
       "7   source_article_max_section_number  6.054259e-17\n",
       "8  source_article_max_number_of_links  1.843562e-17"
      ]
     },
     "execution_count": 18,
     "metadata": {},
     "output_type": "execute_result"
    },
    {
     "data": {
      "image/png": "[encoded data removed]",
      "text/plain": [
       "<matplotlib.figure.Figure at 0x7f5f3dd3dc88>"
      ]
     },
     "metadata": {},
     "output_type": "display_data"
    }
   ],
   "source": [
    "corr_matrix = raw.corr() # correlation matrix between all cols\n",
    "\n",
    "corr_target = corr_matrix.probability.to_frame().reset_index()\n",
    "corr_target.columns = ['features', 'correlation']\n",
    "# drop the row for the correlation of probability with itself\n",
    "corr_target = corr_target[corr_target.features != 'probability'] \n",
    "plt.scatter(corr_target.index, corr_target.correlation)\n",
    "corr_target"
   ]
  },
  {
   "cell_type": "markdown",
   "metadata": {},
   "source": [
    "So with the text feature dropped, we only have 8 features left, and out of those 3 show a 0 correlation value with the target. \n",
    "\n",
    "Of these three, the `target_article_id` makes sense, since it will be different for each target link, and point to at least two different probability values. The different IDs have no ordered relation between themselves.\n",
    "\n",
    "On the other hand, the virtually zero correlation values for `source_article_max_section_number` and `source_article_max_number_of_links` is surprising. By themselves, these features tell us nothing about the target data.\n",
    "\n",
    "The most informative feature is `target_position_in_text_normed` at close to $-0.20$ correlation. This seems reasonable, as one might assume users tend to click on earlier links rather than later ones."
   ]
  },
  {
   "cell_type": "code",
   "execution_count": null,
   "metadata": {
    "collapsed": true
   },
   "outputs": [],
   "source": []
  }
 ],
 "metadata": {
  "kernelspec": {
   "display_name": "Python [Root]",
   "language": "python",
   "name": "Python [Root]"
  },
  "language_info": {
   "codemirror_mode": {
    "name": "ipython",
    "version": 3
   },
   "file_extension": ".py",
   "mimetype": "text/x-python",
   "name": "python",
   "nbconvert_exporter": "python",
   "pygments_lexer": "ipython3",
   "version": "3.5.2"
  }
 },
 "nbformat": 4,
 "nbformat_minor": 0
}
